{
 "cells": [
  {
   "cell_type": "code",
   "execution_count": 7,
   "id": "2e813e15",
   "metadata": {},
   "outputs": [
    {
     "name": "stdout",
     "output_type": "stream",
     "text": [
      "Arithematic operations:\n",
      "1.Add\n",
      "2.Subtract\n",
      "3.Multiplication\n",
      "4.Divide\n",
      "5.Power\n",
      "Enter choice(1/2/3/4/5):5\n",
      "Enter first number:2\n",
      "Enter second number:3\n",
      "Answer: 2.0 ^ 3.0 = 8.0\n"
     ]
    }
   ],
   "source": [
    "# 1. Make a calculator using Python with addition , subtraction ,multiplication ,division and power.\n",
    "\n",
    "def add(x,y):\n",
    "    return x+y\n",
    "def subtract(x,y):\n",
    "    return x-y\n",
    "def multiplication(x,y):\n",
    "    return x*y\n",
    "def divide(x,y):\n",
    "    return x/y\n",
    "def power(num,exp):\n",
    "    return pow(num,exp)\n",
    "    \n",
    "print(\"Arithematic operations:\")\n",
    "print(\"1.Add\")\n",
    "print(\"2.Subtract\")\n",
    "print(\"3.Multiplication\")\n",
    "print(\"4.Divide\")\n",
    "print(\"5.Power\")\n",
    "choice=input(\"Enter choice(1/2/3/4/5):\")\n",
    "num1=float(input(\"Enter first number:\"))\n",
    "num2=float(input(\"Enter second number:\"))\n",
    "if choice=='1':\n",
    "    print(\"Answer:\",num1,\"+\",num2,\"=\",add(num1,num2))\n",
    "elif choice=='2':\n",
    "    print(\"Answer:\",num1,\"-\",num2,\"=\",Subtract(num1,num2))\n",
    "elif choice=='3':\n",
    "    print(\"Answer:\",num1,\"*\",num2,\"=\",multiplication(num1,num2))\n",
    "elif choice=='4':\n",
    "    print(\"Answer:\",num1,\"/\",num2,\"=\",divide(num1,num2))\n",
    "elif choice=='5':\n",
    "    print(\"Answer:\",num1,\"^\",num2,\"=\",power(num1,num2))\n",
    "else:\n",
    "    print(\"Incorrect choice\")"
   ]
  },
  {
   "cell_type": "code",
   "execution_count": 56,
   "id": "3c1b33f9",
   "metadata": {},
   "outputs": [
    {
     "name": "stdout",
     "output_type": "stream",
     "text": [
      "2\n",
      "5\n"
     ]
    }
   ],
   "source": [
    "# 2. Write a program to check if there is any numeric value in list using for loop.\n",
    "\n",
    "list=[\"hello\",\"world\",2,\"abc\",5]\n",
    "for x in list:\n",
    "    if type(x)==int:\n",
    "        print(x)"
   ]
  },
  {
   "cell_type": "code",
   "execution_count": 34,
   "id": "b9488596",
   "metadata": {},
   "outputs": [
    {
     "name": "stdout",
     "output_type": "stream",
     "text": [
      "{1: 'Ifra'}\n"
     ]
    }
   ],
   "source": [
    "# 3. Write a Python script to add a key to a dictionary.\n",
    "\n",
    "dic={}\n",
    "dic[1]=\"Ifra\"\n",
    "print(dic)"
   ]
  },
  {
   "cell_type": "code",
   "execution_count": 67,
   "id": "f1be3fb1",
   "metadata": {},
   "outputs": [
    {
     "name": "stdout",
     "output_type": "stream",
     "text": [
      "18\n"
     ]
    }
   ],
   "source": [
    "# 4. Write a Python program to sum all the numeric items in a dictionary.\n",
    "\n",
    "dic={'1':1,'2':4,'3':6,'4':7}\n",
    "print(sum(dic.values()))"
   ]
  },
  {
   "cell_type": "code",
   "execution_count": 49,
   "id": "036af044",
   "metadata": {},
   "outputs": [
    {
     "name": "stdout",
     "output_type": "stream",
     "text": [
      "Duplicate values in the list:\n",
      "2\n",
      "3\n",
      "5\n"
     ]
    }
   ],
   "source": [
    "# 5. Write a program to identify duplicate values from list.\n",
    "\n",
    "list=[1,2,3,4,2,5,6,7,5,8,9,3]\n",
    "print(\"Duplicate values in the list:\")\n",
    "for i in range(0,len(list)):\n",
    "    for j in range(i+1,len(list)):\n",
    "        if(list[i]==list[j]):\n",
    "            print(list[j])"
   ]
  },
  {
   "cell_type": "code",
   "execution_count": 55,
   "id": "89db9152",
   "metadata": {},
   "outputs": [
    {
     "name": "stdout",
     "output_type": "stream",
     "text": [
      "Key already exists\n"
     ]
    }
   ],
   "source": [
    "# 6. Write a Python script to check if a given key already exists in a dictionary\n",
    "\n",
    "dic={1:\"one\",2:\"two\",3:\"three\",4:\"four\"}\n",
    "key=2\n",
    "if key in dic:\n",
    "    print(\"Key already exists\")\n",
    "else:\n",
    "    print(\"Key does not exist\")"
   ]
  }
 ],
 "metadata": {
  "kernelspec": {
   "display_name": "Python 3",
   "language": "python",
   "name": "python3"
  },
  "language_info": {
   "codemirror_mode": {
    "name": "ipython",
    "version": 3
   },
   "file_extension": ".py",
   "mimetype": "text/x-python",
   "name": "python",
   "nbconvert_exporter": "python",
   "pygments_lexer": "ipython3",
   "version": "3.8.8"
  }
 },
 "nbformat": 4,
 "nbformat_minor": 5
}
