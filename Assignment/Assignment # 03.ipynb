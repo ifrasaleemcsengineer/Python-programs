{
 "cells": [
  {
   "cell_type": "code",
   "execution_count": 1,
   "id": "e109b45c",
   "metadata": {},
   "outputs": [
    {
     "name": "stdout",
     "output_type": "stream",
     "text": [
      "Twinkle, twinkle, little star, \n",
      "\t How I wonder what you are! \n",
      "\t\tUp above the world so high, \n",
      "\t\tLike a diamond in the sky. \n",
      "Twinkle, twinkle, little star, \n",
      "\t How I wonder what you are!\n"
     ]
    }
   ],
   "source": [
    "#Write a Python program to print the following string in a specific format (see the output).\n",
    "#Twinkle, twinkle, little star, \n",
    "#How I wonder what you are! \n",
    "#Up above the world so high, \n",
    "#Like a diamond in the sky. \n",
    "#Twinkle, twinkle, little star, \n",
    "#How I wonder what you are \n",
    "\n",
    "print(\"Twinkle, twinkle, little star, \\n\\t How I wonder what you are! \\n\\t\\tUp above the world so high, \\n\\t\\tLike a diamond in the sky. \\nTwinkle, twinkle, little star, \\n\\t How I wonder what you are!\")"
   ]
  },
  {
   "cell_type": "code",
   "execution_count": 2,
   "id": "9b39c6db",
   "metadata": {},
   "outputs": [
    {
     "name": "stdout",
     "output_type": "stream",
     "text": [
      "3.8.8 (default, Apr 13 2021, 15:08:03) [MSC v.1916 64 bit (AMD64)]\n"
     ]
    }
   ],
   "source": [
    "#Write a Python program to get the Python version you are using \n",
    "import sys\n",
    "print(sys.version)"
   ]
  },
  {
   "cell_type": "code",
   "execution_count": 3,
   "id": "fd7a09f2",
   "metadata": {},
   "outputs": [
    {
     "name": "stdout",
     "output_type": "stream",
     "text": [
      "Current date and time: \n",
      "2021-10-24 01:21:27.501441\n"
     ]
    }
   ],
   "source": [
    "#Write a Python program to display the current date and time.\n",
    "import datetime\n",
    "now=datetime.datetime.now()\n",
    "print(\"Current date and time: \")\n",
    "print(str(now))"
   ]
  },
  {
   "cell_type": "code",
   "execution_count": 4,
   "id": "f2591476",
   "metadata": {},
   "outputs": [
    {
     "name": "stdout",
     "output_type": "stream",
     "text": [
      "Enter radius:6\n",
      "Area of circle is 113.03999999999999\n"
     ]
    }
   ],
   "source": [
    "#Write a Python program which accepts the radius of a circle from the user and compute the area.\n",
    "PI=3.14\n",
    "r=float(input(\"Enter radius:\"))\n",
    "A=PI*r*r\n",
    "print(\"Area of circle is\",A)"
   ]
  },
  {
   "cell_type": "raw",
   "id": "91d65034",
   "metadata": {},
   "source": []
  },
  {
   "cell_type": "code",
   "execution_count": 35,
   "id": "3a8d3131",
   "metadata": {},
   "outputs": [
    {
     "name": "stdout",
     "output_type": "stream",
     "text": [
      "Enter your first name:Ifra\n",
      "Enter your last name:Saleem\n",
      "Saleem Ifra\n"
     ]
    }
   ],
   "source": [
    "#Write a Python program which accepts the user's first and last name and print them in reverse order with a space between them.\n",
    "firstName=input(\"Enter your first name:\")\n",
    "lastName=input(\"Enter your last name:\")\n",
    "print(lastName+\" \"+firstName)"
   ]
  },
  {
   "cell_type": "code",
   "execution_count": 38,
   "id": "8f7f6366",
   "metadata": {},
   "outputs": [
    {
     "name": "stdout",
     "output_type": "stream",
     "text": [
      "Enter first number:Hello\n",
      "Enter second number:World\n",
      "HelloWorld\n"
     ]
    }
   ],
   "source": [
    "#Write a python program which takes two inputs from user and print them addition\n",
    "Num1=input(\"Enter first number:\")\n",
    "Num2=input(\"Enter second number:\")\n",
    "print(Num1+Num2)"
   ]
  },
  {
   "cell_type": "code",
   "execution_count": 68,
   "id": "843e8d14",
   "metadata": {},
   "outputs": [
    {
     "name": "stdout",
     "output_type": "stream",
     "text": [
      "Enter marks obtained in Mathematics:33\n",
      "Enter marks obtained in Science:55\n",
      "Enter marks obtained in Urdu:45\n",
      "Enter marks obtained in English:23\n",
      "Enter marks obtained in Computer:56\n",
      "Total marks: 212\n",
      "Average: 42.4\n",
      "Grade E\n"
     ]
    }
   ],
   "source": [
    "#Write a program which takes 5 inputs from user for different subject’s marks, total it and generate mark sheet using grades ?\n",
    "Math=int(input(\"Enter marks obtained in Mathematics:\"))\n",
    "Science=int(input(\"Enter marks obtained in Science:\"))\n",
    "Urdu=int(input(\"Enter marks obtained in Urdu:\"))\n",
    "English=int(input(\"Enter marks obtained in English:\"))\n",
    "Computer=int(input(\"Enter marks obtained in Computer:\"))\n",
    "total=Math+Science+Urdu+English+Computer\n",
    "print(\"Total marks:\",total)\n",
    "avg=total/5\n",
    "print(\"Average:\",avg)\n",
    "if (avg>=90 and avg<100):\n",
    "    print(\"Grade A+\")\n",
    "elif(avg>=80 and avg<90):\n",
    "    print(\"Grade A\")\n",
    "elif(avg>=70 and avg<80):   \n",
    "    print(\"Grade B\")\n",
    "elif(avg>=60 and avg<70):\n",
    "    print(\"Grade C\")\n",
    "elif(avg>=50 and avg<60):\n",
    "    print(\"Grade D\")\n",
    "elif(avg>=40 and avg<50):\n",
    "    print(\"Grade E\")\n",
    "elif(avg>=30 and avg<40):\n",
    "    print(\"Fail\")\n",
    "elif(avg)\n",
    "else:\n",
    "    print(\"Invalid number\")"
   ]
  },
  {
   "cell_type": "code",
   "execution_count": 49,
   "id": "d5de7d3c",
   "metadata": {},
   "outputs": [
    {
     "name": "stdout",
     "output_type": "stream",
     "text": [
      "Enter a number to check whether it is even or odd:5\n",
      "It is an odd number\n"
     ]
    }
   ],
   "source": [
    "#Write a program which take input from user and identify that the given number is even or odd? \n",
    "n=int(input(\"Enter a number to check whether it is even or odd:\"))\n",
    "if(n%2)==0:\n",
    "    print(\"It is an even number\")\n",
    "else:\n",
    "    print(\"It is an odd number\")"
   ]
  },
  {
   "cell_type": "code",
   "execution_count": 51,
   "id": "540e74b1",
   "metadata": {},
   "outputs": [
    {
     "name": "stdout",
     "output_type": "stream",
     "text": [
      "List: [2, 3, 5, 7, 8, 9, 1, 4]\n",
      "Length of the above list is: 8\n"
     ]
    }
   ],
   "source": [
    "#Write a program which print the length of the list?\n",
    "list=[2,3,5,7,8,9,1,4]\n",
    "print(\"List:\",list)\n",
    "print(\"Length of the above list is:\",len(list))"
   ]
  },
  {
   "cell_type": "code",
   "execution_count": 57,
   "id": "3f8e1e3a",
   "metadata": {},
   "outputs": [
    {
     "name": "stdout",
     "output_type": "stream",
     "text": [
      "List: [4, 6, 7, 2, 6, 9]\n",
      "The sum of list= 34\n"
     ]
    }
   ],
   "source": [
    "#Write a Python program to sum all the numeric items in a list?\n",
    "list=[4,6,7,2,6,9]\n",
    "print(\"List:\",list)\n",
    "print(\"The sum of list=\",sum(list))"
   ]
  },
  {
   "cell_type": "code",
   "execution_count": 5,
   "id": "15104544",
   "metadata": {},
   "outputs": [
    {
     "name": "stdout",
     "output_type": "stream",
     "text": [
      "List: [3, 10, 78, 4, 66, 22, 19]\n",
      "Largest number of the list is: 78\n"
     ]
    }
   ],
   "source": [
    "#Write a Python program to get the largest number from a numeric list. \n",
    "list=[3,10,78,4,66,22,19]\n",
    "print(\"List:\",list)\n",
    "print(\"Largest number of the list is:\",max(list))"
   ]
  },
  {
   "cell_type": "code",
   "execution_count": 6,
   "id": "366c39dd",
   "metadata": {},
   "outputs": [
    {
     "name": "stdout",
     "output_type": "stream",
     "text": [
      "1\n",
      "1\n",
      "2\n",
      "3\n"
     ]
    }
   ],
   "source": [
    "#Take a list, say for example this one: \n",
    "#a = [1, 1, 2, 3, 5, 8, 13, 21, 34, 55, 89] \n",
    "#Write a program that prints out all the elements of the list that are less than 5.\n",
    "list=[1,1,2,3,5,8,13,21,34,55,89]\n",
    "for item in list:\n",
    "    if item<5:\n",
    "        print(item)"
   ]
  },
  {
   "cell_type": "code",
   "execution_count": null,
   "id": "9a791e67",
   "metadata": {},
   "outputs": [],
   "source": []
  }
 ],
 "metadata": {
  "kernelspec": {
   "display_name": "Python 3",
   "language": "python",
   "name": "python3"
  },
  "language_info": {
   "codemirror_mode": {
    "name": "ipython",
    "version": 3
   },
   "file_extension": ".py",
   "mimetype": "text/x-python",
   "name": "python",
   "nbconvert_exporter": "python",
   "pygments_lexer": "ipython3",
   "version": "3.8.8"
  }
 },
 "nbformat": 4,
 "nbformat_minor": 5
}
